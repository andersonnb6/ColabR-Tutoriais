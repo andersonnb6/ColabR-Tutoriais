{
  "nbformat": 4,
  "nbformat_minor": 0,
  "metadata": {
    "colab": {
      "name": "Abrir_ColabR.ipynb",
      "provenance": [],
      "collapsed_sections": [],
      "authorship_tag": "ABX9TyPYqbOL8smWKSlvRkevh8HE",
      "include_colab_link": true
    },
    "kernelspec": {
      "name": "ir",
      "display_name": "R"
    },
    "language_info": {
      "name": "R"
    }
  },
  "cells": [
    {
      "cell_type": "markdown",
      "metadata": {
        "id": "view-in-github",
        "colab_type": "text"
      },
      "source": [
        "<a href=\"https://colab.research.google.com/github/andersonnb6/ColabR-Tutoriais/blob/main/Abrir_ColabR.ipynb\" target=\"_parent\"><img src=\"https://colab.research.google.com/assets/colab-badge.svg\" alt=\"Open In Colab\"/></a>"
      ]
    },
    {
      "cell_type": "markdown",
      "source": [
        "# New R-Colab file\n",
        "Run the commands below to establish a new R connection in Google Colab.  \n",
        "https://colab.to/r"
      ],
      "metadata": {
        "id": "FlGsleiCFuqJ"
      }
    },
    {
      "cell_type": "code",
      "execution_count": null,
      "metadata": {
        "id": "MsswBxaIFKBj"
      },
      "outputs": [],
      "source": [
        "# Installing and opening 'zoo' package\n",
        "install.packages('zoo', repos = 'http://cran.rstudio.com/')\n",
        "library(\"zoo\")"
      ]
    },
    {
      "cell_type": "code",
      "source": [
        ""
      ],
      "metadata": {
        "id": "4i8MrkvcFnR7"
      },
      "execution_count": null,
      "outputs": []
    }
  ]
}