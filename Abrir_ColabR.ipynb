{
  "nbformat": 4,
  "nbformat_minor": 0,
  "metadata": {
    "colab": {
      "name": "Abrir_ColabR.ipynb",
      "provenance": [],
      "collapsed_sections": [],
      "authorship_tag": "ABX9TyN9MB/6KGCtilcyfJJj8MSp",
      "include_colab_link": true
    },
    "kernelspec": {
      "name": "ir",
      "display_name": "R"
    },
    "language_info": {
      "name": "R"
    }
  },
  "cells": [
    {
      "cell_type": "markdown",
      "metadata": {
        "id": "view-in-github",
        "colab_type": "text"
      },
      "source": [
        "<a href=\"https://colab.research.google.com/github/andersonnb6/ColabR-Tutoriais/blob/main/Abrir_ColabR.ipynb\" target=\"_parent\"><img src=\"https://colab.research.google.com/assets/colab-badge.svg\" alt=\"Open In Colab\"/></a>"
      ]
    },
    {
      "cell_type": "markdown",
      "source": [
        "# Novo arquivo ColabR\n",
        "Faça uma cópia do arquivo atual ou acesse o link abaixo para abrir uma nova página executando o Google Colab com linguagem R.  \n",
        "https://colab.to/r\n",
        "\n",
        "Em seu novo notebook, execute os comandos abaixo conectar e testar se está funcionando corretamente."
      ],
      "metadata": {
        "id": "FlGsleiCFuqJ"
      }
    },
    {
      "cell_type": "code",
      "execution_count": null,
      "metadata": {
        "id": "MsswBxaIFKBj"
      },
      "outputs": [],
      "source": [
        "# Instalando e abrindo o pacote 'zoo'\n",
        "install.packages('zoo', repos = 'http://cran.rstudio.com/')\n",
        "library(\"zoo\")"
      ]
    }
  ]
}